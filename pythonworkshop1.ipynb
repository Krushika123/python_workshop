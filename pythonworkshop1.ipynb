{
  "nbformat": 4,
  "nbformat_minor": 0,
  "metadata": {
    "colab": {
      "name": "pythonworkshop1.ipynb",
      "provenance": [],
      "collapsed_sections": [],
      "authorship_tag": "ABX9TyMArlQAYfs0z6Vw9Lkr3ToV",
      "include_colab_link": true
    },
    "kernelspec": {
      "name": "python3",
      "display_name": "Python 3"
    }
  },
  "cells": [
    {
      "cell_type": "markdown",
      "metadata": {
        "id": "view-in-github",
        "colab_type": "text"
      },
      "source": [
        "<a href=\"https://colab.research.google.com/github/Krushika123/python_workshop/blob/main/pythonworkshop1.ipynb\" target=\"_parent\"><img src=\"https://colab.research.google.com/assets/colab-badge.svg\" alt=\"Open In Colab\"/></a>"
      ]
    },
    {
      "cell_type": "markdown",
      "metadata": {
        "id": "4BOkKHHy3Zhz"
      },
      "source": [
        "hello world program\r\n"
      ]
    },
    {
      "cell_type": "code",
      "metadata": {
        "colab": {
          "base_uri": "https://localhost:8080/"
        },
        "id": "W7cjUR6S3Ptb",
        "outputId": "b51460d5-8993-4db6-aeef-efd3428593f3"
      },
      "source": [
        "print(\"hello\")"
      ],
      "execution_count": null,
      "outputs": [
        {
          "output_type": "stream",
          "text": [
            "hello\n"
          ],
          "name": "stdout"
        }
      ]
    },
    {
      "cell_type": "markdown",
      "metadata": {
        "id": "kXySI6HB549R"
      },
      "source": [
        "variable\r\n",
        "\r\n"
      ]
    },
    {
      "cell_type": "code",
      "metadata": {
        "colab": {
          "base_uri": "https://localhost:8080/"
        },
        "id": "BHYP-SE553C6",
        "outputId": "3f6105f1-3b9d-41a1-a18e-3a8bdad8d1fa"
      },
      "source": [
        "x=5\r\n",
        "y=\"john\"\r\n",
        "print(x)\r\n",
        "print(y)\r\n"
      ],
      "execution_count": null,
      "outputs": [
        {
          "output_type": "stream",
          "text": [
            "5\n",
            "john\n"
          ],
          "name": "stdout"
        }
      ]
    },
    {
      "cell_type": "code",
      "metadata": {
        "colab": {
          "base_uri": "https://localhost:8080/"
        },
        "id": "-rwU7QiW9awk",
        "outputId": "6a252fc9-5d37-4608-edfb-50ba891b0ba7"
      },
      "source": [
        "x,y,z=5,\"python\",3.99\r\n",
        "print(x)\r\n",
        "print(y)\r\n",
        "print(z)"
      ],
      "execution_count": null,
      "outputs": [
        {
          "output_type": "stream",
          "text": [
            "5\n",
            "python\n",
            "3.99\n"
          ],
          "name": "stdout"
        }
      ]
    },
    {
      "cell_type": "code",
      "metadata": {
        "colab": {
          "base_uri": "https://localhost:8080/"
        },
        "id": "qRQYfcxY_SVz",
        "outputId": "e8f68ad4-c0b4-4912-c153-7d1e3195b8e2"
      },
      "source": [
        "def myfunc():\r\n",
        "  x=\"awesome\"\r\n",
        "  print(\"python is\" + x) \r\n",
        "\r\n",
        "myfunc()\r\n"
      ],
      "execution_count": null,
      "outputs": [
        {
          "output_type": "stream",
          "text": [
            "python isawesome\n"
          ],
          "name": "stdout"
        }
      ]
    },
    {
      "cell_type": "markdown",
      "metadata": {
        "id": "h2zqfSIQBIJ6"
      },
      "source": [
        "exercise-1\r\n"
      ]
    },
    {
      "cell_type": "code",
      "metadata": {
        "colab": {
          "base_uri": "https://localhost:8080/"
        },
        "id": "2qNPP8YkBCN9",
        "outputId": "d49ad45d-bf9e-471e-c17e-f91adeb71279"
      },
      "source": [
        "carname=\"volvo\"\r\n",
        "print(carname)"
      ],
      "execution_count": null,
      "outputs": [
        {
          "output_type": "stream",
          "text": [
            "volvo\n"
          ],
          "name": "stdout"
        }
      ]
    },
    {
      "cell_type": "markdown",
      "metadata": {
        "id": "essYLyzWCjz_"
      },
      "source": [
        "exercise-2"
      ]
    },
    {
      "cell_type": "code",
      "metadata": {
        "colab": {
          "base_uri": "https://localhost:8080/"
        },
        "id": "6-OgrOowBcic",
        "outputId": "f2d2e29b-a784-48aa-c15f-dd3ab1751f9f"
      },
      "source": [
        "x=50\r\n",
        "print(x,type(x))"
      ],
      "execution_count": null,
      "outputs": [
        {
          "output_type": "stream",
          "text": [
            "50 <class 'int'>\n"
          ],
          "name": "stdout"
        }
      ]
    },
    {
      "cell_type": "markdown",
      "metadata": {
        "id": "7GzOIsyqCyAR"
      },
      "source": [
        "exercise-3"
      ]
    },
    {
      "cell_type": "code",
      "metadata": {
        "colab": {
          "base_uri": "https://localhost:8080/"
        },
        "id": "yh5SiUSHCUzc",
        "outputId": "81abace2-4a5c-4793-b58c-74fbeba848d4"
      },
      "source": [
        "x=5\r\n",
        "y=10\r\n",
        "print(x+y)"
      ],
      "execution_count": null,
      "outputs": [
        {
          "output_type": "stream",
          "text": [
            "15\n"
          ],
          "name": "stdout"
        }
      ]
    },
    {
      "cell_type": "markdown",
      "metadata": {
        "id": "kbwxw-CoC3ca"
      },
      "source": [
        "exercise-4"
      ]
    },
    {
      "cell_type": "code",
      "metadata": {
        "colab": {
          "base_uri": "https://localhost:8080/"
        },
        "id": "sr0rnZG_BM2c",
        "outputId": "416dfe9e-8f74-4692-fe1f-d089f4c9b3bc"
      },
      "source": [
        "x,y=11,17\r\n",
        "z=x+y\r\n",
        "print(z)"
      ],
      "execution_count": null,
      "outputs": [
        {
          "output_type": "stream",
          "text": [
            "28\n"
          ],
          "name": "stdout"
        }
      ]
    },
    {
      "cell_type": "code",
      "metadata": {
        "colab": {
          "base_uri": "https://localhost:8080/"
        },
        "id": "dp0QP1QlPzcI",
        "outputId": "453bc721-ae55-4663-edae-8fcb500b9ca7"
      },
      "source": [
        "x1=\"hello world\"   #string\r\n",
        "x2=5  #integer\r\n",
        "x3=5.35  #float\r\n",
        "x4=[\"apple\",\"banana\",\"orange\"]  #list\r\n",
        "x5=(\"apple\",\"banana\",\"orange\") #tuple\r\n",
        "x6=range(6) #range\r\n",
        "x7={\"name\": \"johnwick\",\"age\":36} #dictionary\r\n",
        "x8={\"apple\",\"banana\",\"cherry\"} #set\r\n",
        "x9= True #bool\r\n",
        "print(type(x1))\r\n",
        "print(type(x2))\r\n",
        "print(type(x3))\r\n",
        "print(type(x4))\r\n",
        "print(type(x5))\r\n",
        "print(type(x6))\r\n",
        "print(type(x7))\r\n",
        "print(type(x8))\r\n",
        "print(type(x9 ))\r\n"
      ],
      "execution_count": null,
      "outputs": [
        {
          "output_type": "stream",
          "text": [
            "<class 'str'>\n",
            "<class 'int'>\n",
            "<class 'float'>\n",
            "<class 'list'>\n",
            "<class 'tuple'>\n",
            "<class 'range'>\n",
            "<class 'dict'>\n",
            "<class 'set'>\n",
            "<class 'bool'>\n"
          ],
          "name": "stdout"
        }
      ]
    },
    {
      "cell_type": "code",
      "metadata": {
        "colab": {
          "base_uri": "https://localhost:8080/"
        },
        "id": "PCVHMtv1T1Fn",
        "outputId": "189c1370-3c25-4de5-ece7-4420b9302e0e"
      },
      "source": [
        "x=range(1,5,2)\r\n",
        "print(list(x))"
      ],
      "execution_count": null,
      "outputs": [
        {
          "output_type": "stream",
          "text": [
            "[1, 3]\n"
          ],
          "name": "stdout"
        }
      ]
    },
    {
      "cell_type": "code",
      "metadata": {
        "colab": {
          "base_uri": "https://localhost:8080/"
        },
        "id": "omNHWUtbWvTO",
        "outputId": "ca167090-1b4c-49ae-d30a-b869aba4a487"
      },
      "source": [
        "x={1,2,3,2}\r\n",
        "print(x)"
      ],
      "execution_count": null,
      "outputs": [
        {
          "output_type": "stream",
          "text": [
            "{1, 2, 3}\n"
          ],
          "name": "stdout"
        }
      ]
    },
    {
      "cell_type": "code",
      "metadata": {
        "colab": {
          "base_uri": "https://localhost:8080/"
        },
        "id": "6Jk_zKRaXrtU",
        "outputId": "bf22a9c3-4ae0-4444-b121-19c4f159d505"
      },
      "source": [
        "x=1\r\n",
        "y=2.8\r\n",
        "z=1j\r\n",
        "a=float(x)\r\n",
        "b=int(y)\r\n",
        "c=complex(x)\r\n",
        "print(a)\r\n",
        "print(b)\r\n",
        "print(c)"
      ],
      "execution_count": null,
      "outputs": [
        {
          "output_type": "stream",
          "text": [
            "1.0\n",
            "2\n",
            "(1+0j)\n"
          ],
          "name": "stdout"
        }
      ]
    },
    {
      "cell_type": "markdown",
      "metadata": {
        "id": "TAQiqrMDbWDC"
      },
      "source": [
        "assignment"
      ]
    },
    {
      "cell_type": "code",
      "metadata": {
        "colab": {
          "base_uri": "https://localhost:8080/"
        },
        "id": "hLi_frTRabFW",
        "outputId": "8d01647e-1a9c-4e69-f62c-32cf0e3d79c6"
      },
      "source": [
        "x=\"2\"\r\n",
        "y=\"3\"\r\n",
        "print(x+y)"
      ],
      "execution_count": null,
      "outputs": [
        {
          "output_type": "stream",
          "text": [
            "23\n"
          ],
          "name": "stdout"
        }
      ]
    },
    {
      "cell_type": "code",
      "metadata": {
        "colab": {
          "base_uri": "https://localhost:8080/"
        },
        "id": "Lxq6CVeldojc",
        "outputId": "a9f38665-7349-4908-9d70-dc9fe512d48e"
      },
      "source": [
        "name=\"krushika\"\r\n",
        "print(name)\r\n",
        "print(type(name))"
      ],
      "execution_count": null,
      "outputs": [
        {
          "output_type": "stream",
          "text": [
            "krushika\n",
            "<class 'str'>\n"
          ],
          "name": "stdout"
        }
      ]
    },
    {
      "cell_type": "code",
      "metadata": {
        "colab": {
          "base_uri": "https://localhost:8080/"
        },
        "id": "7r_8yRxheUmk",
        "outputId": "da9f0b89-9789-4d9d-cb93-9f60dc369bbc"
      },
      "source": [
        "name=\"krushika\"\r\n",
        "print(name[7])"
      ],
      "execution_count": null,
      "outputs": [
        {
          "output_type": "stream",
          "text": [
            "a\n"
          ],
          "name": "stdout"
        }
      ]
    },
    {
      "cell_type": "code",
      "metadata": {
        "colab": {
          "base_uri": "https://localhost:8080/"
        },
        "id": "ZwQFypXweh07",
        "outputId": "9856a1ce-4af9-4a24-ffcd-a31afbab97da"
      },
      "source": [
        "name=\"krushi\"\r\n",
        "print(len(name))"
      ],
      "execution_count": null,
      "outputs": [
        {
          "output_type": "stream",
          "text": [
            "6\n"
          ],
          "name": "stdout"
        }
      ]
    },
    {
      "cell_type": "code",
      "metadata": {
        "colab": {
          "base_uri": "https://localhost:8080/"
        },
        "id": "nXGCgKtQfbSH",
        "outputId": "53c2f37a-8d0f-457f-c439-397ac3abb9db"
      },
      "source": [
        "txt=\"things in life are free!!\"\r\n",
        "print(\"life\" in txt)"
      ],
      "execution_count": null,
      "outputs": [
        {
          "output_type": "stream",
          "text": [
            "True\n"
          ],
          "name": "stdout"
        }
      ]
    },
    {
      "cell_type": "code",
      "metadata": {
        "colab": {
          "base_uri": "https://localhost:8080/"
        },
        "id": "xmMRF2_7gS6v",
        "outputId": "fa9c4669-eb0e-4c85-dc05-4ea13c84d80d"
      },
      "source": [
        "txt=\"things in life are free!!\"\r\n",
        "print(txt[6:])\r\n",
        "b=\"hello world\"\r\n",
        "print(b[-5:-2])"
      ],
      "execution_count": null,
      "outputs": [
        {
          "output_type": "stream",
          "text": [
            " in life are free!!\n",
            "wor\n"
          ],
          "name": "stdout"
        }
      ]
    },
    {
      "cell_type": "code",
      "metadata": {
        "colab": {
          "base_uri": "https://localhost:8080/"
        },
        "id": "s4tg39AxhyYf",
        "outputId": "91d242f9-7ba7-4df9-8a82-225578052cca"
      },
      "source": [
        "a=\"Hello,World!!\"\r\n",
        "print(a.upper())"
      ],
      "execution_count": null,
      "outputs": [
        {
          "output_type": "stream",
          "text": [
            "HELLO,WORLD!!\n"
          ],
          "name": "stdout"
        }
      ]
    },
    {
      "cell_type": "code",
      "metadata": {
        "colab": {
          "base_uri": "https://localhost:8080/"
        },
        "id": "EAMqKM2pfpPu",
        "outputId": "ce826de8-89f3-4d3f-e6fa-6450fe07f0e1"
      },
      "source": [
        "a=\"HELLO,WORLD!!\"\r\n",
        "print(a.lower())"
      ],
      "execution_count": null,
      "outputs": [
        {
          "output_type": "stream",
          "text": [
            "hello,world!!\n"
          ],
          "name": "stdout"
        }
      ]
    },
    {
      "cell_type": "code",
      "metadata": {
        "colab": {
          "base_uri": "https://localhost:8080/"
        },
        "id": "4F10BriUjS0J",
        "outputId": "6f0b4d10-9761-4879-fd07-ed63032faca2"
      },
      "source": [
        "age=36\r\n",
        "txt=\"my name is john,I am {}\"\r\n",
        "print(txt.format(age))"
      ],
      "execution_count": null,
      "outputs": [
        {
          "output_type": "stream",
          "text": [
            "my name is john,I am 36\n"
          ],
          "name": "stdout"
        }
      ]
    },
    {
      "cell_type": "code",
      "metadata": {
        "colab": {
          "base_uri": "https://localhost:8080/"
        },
        "id": "nfzvOKslkOWn",
        "outputId": "a53558ce-7595-48db-a6a5-11707881d602"
      },
      "source": [
        "txt=\"hello\\tworld!!\"\r\n",
        "print(txt)"
      ],
      "execution_count": null,
      "outputs": [
        {
          "output_type": "stream",
          "text": [
            "hello\tworld!!\n"
          ],
          "name": "stdout"
        }
      ]
    },
    {
      "cell_type": "code",
      "metadata": {
        "colab": {
          "base_uri": "https://localhost:8080/"
        },
        "id": "5H-6CSEakVxb",
        "outputId": "1dd434bf-51df-48ef-ce56-b98201fbb0b3"
      },
      "source": [
        "txt=\"krushika\"\r\n",
        "x=txt.capitalize()\r\n",
        "print(x)"
      ],
      "execution_count": null,
      "outputs": [
        {
          "output_type": "stream",
          "text": [
            "Krushika\n"
          ],
          "name": "stdout"
        }
      ]
    },
    {
      "cell_type": "code",
      "metadata": {
        "colab": {
          "base_uri": "https://localhost:8080/"
        },
        "id": "imwYgc_OlDWi",
        "outputId": "7c818f58-71e1-4f7b-fd99-682279ecb21c"
      },
      "source": [
        "txt=\"krushika\"\r\n",
        "print(txt.isalpha())"
      ],
      "execution_count": null,
      "outputs": [
        {
          "output_type": "stream",
          "text": [
            "True\n"
          ],
          "name": "stdout"
        }
      ]
    },
    {
      "cell_type": "code",
      "metadata": {
        "id": "GBQv-XJNlLRq",
        "colab": {
          "base_uri": "https://localhost:8080/"
        },
        "outputId": "6dfd5f2d-f6a0-4263-9b05-f559e2ac0abc"
      },
      "source": [
        "name=\"alvas\"\r\n",
        "print(name)\r\n",
        "print(len(name))\r\n",
        "print(name[0:4])\r\n",
        "print(name.upper())\r\n",
        "print(name+\"college\")\r\n",
        "name=name+\"{}\"\r\n",
        "print(name.format(\"college\"))\r\n",
        "print(name.isdigit())\r\n",
        "\r\n"
      ],
      "execution_count": 91,
      "outputs": [
        {
          "output_type": "stream",
          "text": [
            "alvas\n",
            "5\n",
            "alva\n",
            "ALVAS\n",
            "alvascollege\n",
            "alvascollege\n",
            "False\n"
          ],
          "name": "stdout"
        }
      ]
    },
    {
      "cell_type": "code",
      "metadata": {
        "colab": {
          "base_uri": "https://localhost:8080/"
        },
        "id": "6UUBz8Ol5OJh",
        "outputId": "35b94cfe-f69f-40fe-be8d-2b19d90da684"
      },
      "source": [
        "x=5\r\n",
        "x+=3\r\n",
        "print(x)"
      ],
      "execution_count": 93,
      "outputs": [
        {
          "output_type": "stream",
          "text": [
            "8\n"
          ],
          "name": "stdout"
        }
      ]
    },
    {
      "cell_type": "code",
      "metadata": {
        "colab": {
          "base_uri": "https://localhost:8080/"
        },
        "id": "KLmk-glk7uDE",
        "outputId": "5924c804-c62f-489d-acd8-18188cbea4ec"
      },
      "source": [
        "x=5\r\n",
        "y=3\r\n",
        "print(x==y)\r\n",
        "print(x!=y)\r\n",
        "print(x>y)\r\n",
        "print(x<y)"
      ],
      "execution_count": 99,
      "outputs": [
        {
          "output_type": "stream",
          "text": [
            "False\n",
            "True\n",
            "True\n",
            "False\n"
          ],
          "name": "stdout"
        }
      ]
    },
    {
      "cell_type": "code",
      "metadata": {
        "colab": {
          "base_uri": "https://localhost:8080/"
        },
        "id": "Wt5CrNfB8Vsf",
        "outputId": "9e74cae2-0115-4d20-acbd-ce7872600836"
      },
      "source": [
        "print(3>0 and 3<8)"
      ],
      "execution_count": 102,
      "outputs": [
        {
          "output_type": "stream",
          "text": [
            "True\n"
          ],
          "name": "stdout"
        }
      ]
    },
    {
      "cell_type": "code",
      "metadata": {
        "colab": {
          "base_uri": "https://localhost:8080/"
        },
        "id": "DoWCtYZ09eyz",
        "outputId": "5ccf0e19-eb42-4e4b-ed6e-d2bb7ee74d10"
      },
      "source": [
        "print(3>0 or 3<8)"
      ],
      "execution_count": 103,
      "outputs": [
        {
          "output_type": "stream",
          "text": [
            "True\n"
          ],
          "name": "stdout"
        }
      ]
    },
    {
      "cell_type": "code",
      "metadata": {
        "colab": {
          "base_uri": "https://localhost:8080/"
        },
        "id": "Vlv5rxy3-B0-",
        "outputId": "75baa8f7-6ec5-4bf2-949d-4de175fc277a"
      },
      "source": [
        "x=3\r\n",
        "x+=5\r\n",
        "print(x)\r\n",
        "x-=5\r\n",
        "print(x)\r\n",
        "x*=5\r\n",
        "print(x)\r\n",
        "x%=3\r\n",
        "print(x)"
      ],
      "execution_count": 110,
      "outputs": [
        {
          "output_type": "stream",
          "text": [
            "8\n",
            "3\n",
            "15\n",
            "0\n"
          ],
          "name": "stdout"
        }
      ]
    },
    {
      "cell_type": "code",
      "metadata": {
        "colab": {
          "base_uri": "https://localhost:8080/"
        },
        "id": "W5le0MGT-zMA",
        "outputId": "74c14fb6-7559-4a5f-9d2e-819b44d8ed0b"
      },
      "source": [
        "x=24\r\n",
        "y=4\r\n",
        "print(x+y)\r\n",
        "print(x-y)\r\n",
        "print(x*y)\r\n",
        "print(x%y)\r\n",
        "print(x/y)\r\n",
        "print(24**4)"
      ],
      "execution_count": 117,
      "outputs": [
        {
          "output_type": "stream",
          "text": [
            "28\n",
            "20\n",
            "96\n",
            "0\n",
            "6.0\n",
            "331776\n"
          ],
          "name": "stdout"
        }
      ]
    },
    {
      "cell_type": "code",
      "metadata": {
        "id": "A9zNRUJu_yj_"
      },
      "source": [
        ""
      ],
      "execution_count": null,
      "outputs": []
    }
  ]
}